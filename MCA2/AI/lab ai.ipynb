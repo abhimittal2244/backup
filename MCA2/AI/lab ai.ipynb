{
 "cells": [
  {
   "cell_type": "code",
   "execution_count": 5,
   "id": "befe6946-45f5-48e9-b39a-fe68c7373156",
   "metadata": {},
   "outputs": [
    {
     "name": "stdout",
     "output_type": "stream",
     "text": [
      "highest:   100\n",
      "lowest:   20\n",
      "average:  72.9\n",
      "highest:   98\n",
      "lowest:   25\n",
      "average:  66.8\n",
      "highest:   98\n",
      "lowest:   45\n",
      "average:  70.7\n",
      "highest:   90\n",
      "lowest:   20\n",
      "average:  53.3\n"
     ]
    }
   ],
   "source": [
    "marks={\n",
    "    \"maths\":[50,20,80,90,100,95,85,69,74,66],\n",
    "    \"science\":[85,75,78,65,35,45,68,25,98,94],\n",
    "    \"English\":[45,67,87,69,45,67,90,98,93,46],\n",
    "    \"IT\":[23,54,67,58,60,90,20,42,36,83]\n",
    "}\n",
    "for i in marks:\n",
    "    print (\"highest:  \",max(marks[i]))\n",
    "    print (\"lowest:  \",min (marks[i]))\n",
    "    print(\"average: \",sum(marks[i])/len(marks[i]))\n",
    "    "
   ]
  },
  {
   "cell_type": "code",
   "execution_count": 11,
   "id": "f73be883-a4db-4197-805d-a400d50cc960",
   "metadata": {},
   "outputs": [
    {
     "name": "stdin",
     "output_type": "stream",
     "text": [
      "enter the basic salary :  15000\n"
     ]
    },
    {
     "name": "stdout",
     "output_type": "stream",
     "text": [
      "Gross Salary :  32250.0\n"
     ]
    }
   ],
   "source": [
    "sal=float(input(\"enter the basic salary : \"))\n",
    "if sal<=10000:\n",
    "    hra=sal*20/100\n",
    "    da=sal*80/100\n",
    "    print(\"Gross Salary : \",(sal+hra+da))\n",
    "elif sal<=20000:\n",
    "    hra=sal*25/100\n",
    "    da=sal*90/100\n",
    "    print(\"Gross Salary : \",(sal+hra+da))\n",
    "elif sal>20000:\n",
    "    hra=sal*30/100\n",
    "    da=sal*95/100\n",
    "    print(\"Gross Salary : \",(sal+hra+da))\n",
    "    "
   ]
  },
  {
   "cell_type": "code",
   "execution_count": 14,
   "id": "c1ead5f1-d04e-4d06-a87c-9dec66b83797",
   "metadata": {},
   "outputs": [
    {
     "name": "stdin",
     "output_type": "stream",
     "text": [
      "enter your password :  ZGp0#1\n"
     ]
    },
    {
     "name": "stdout",
     "output_type": "stream",
     "text": [
      "Valid Password : \n"
     ]
    }
   ],
   "source": [
    "isBig_A=False\n",
    "isSmall_A=False\n",
    "isSpecial=False\n",
    "isNum=False\n",
    "password=input(\"enter your password : \")\n",
    "for i in password:\n",
    "    if ascii(i) in range(65,91):\n",
    "        isBig_A=True\n",
    "    if ascii(i) in range(97,123):\n",
    "        isSmall_A=True\n",
    "    if i in [\"$\",\"#\",\"@\"]:\n",
    "        isSpecial=True\n",
    "    if ascii(i) in range(48,58):\n",
    "        isNum=True\n",
    "if isBig_A & isSmall_A & isSpecial & isNum & len(password)<=6 & len(password)>=6:\n",
    "    print(\"Valid Password \")\n",
    "    \n",
    "    \n"
   ]
  },
  {
   "cell_type": "code",
   "execution_count": null,
   "id": "efd00b43-3a31-4aae-9eef-15ca89cae8c6",
   "metadata": {},
   "outputs": [],
   "source": []
  }
 ],
 "metadata": {
  "kernelspec": {
   "display_name": "Python 3 (ipykernel)",
   "language": "python",
   "name": "python3"
  },
  "language_info": {
   "codemirror_mode": {
    "name": "ipython",
    "version": 3
   },
   "file_extension": ".py",
   "mimetype": "text/x-python",
   "name": "python",
   "nbconvert_exporter": "python",
   "pygments_lexer": "ipython3",
   "version": "3.11.4"
  }
 },
 "nbformat": 4,
 "nbformat_minor": 5
}
