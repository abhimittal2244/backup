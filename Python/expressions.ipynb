{
 "cells": [
  {
   "cell_type": "raw",
   "id": "62d53913-7085-4e76-acae-47b631f6b0b5",
   "metadata": {},
   "source": []
  },
  {
   "cell_type": "code",
   "execution_count": 1,
   "id": "c7309a5c-421d-40d5-b0e1-64b3c1a2846e",
   "metadata": {},
   "outputs": [
    {
     "name": "stdout",
     "output_type": "stream",
     "text": [
      "0.5\n"
     ]
    }
   ],
   "source": [
    "print (2/4) # this is floating division it gives the value in floating number"
   ]
  },
  {
   "cell_type": "code",
   "execution_count": 2,
   "id": "e5143f9b-8c12-43b8-b358-6ccaee5c092e",
   "metadata": {},
   "outputs": [
    {
     "name": "stdout",
     "output_type": "stream",
     "text": [
      "3\n"
     ]
    }
   ],
   "source": [
    "print(10//3)  # this is integer division it gives the value in integer \n"
   ]
  },
  {
   "cell_type": "code",
   "execution_count": 3,
   "id": "db06e04e-7dc2-4326-8746-ff2f228c928a",
   "metadata": {},
   "outputs": [
    {
     "name": "stdout",
     "output_type": "stream",
     "text": [
      "8\n"
     ]
    }
   ],
   "source": [
    "print (2**3) # this is known as exponential it means the power of 2 is 3"
   ]
  },
  {
   "cell_type": "code",
   "execution_count": 4,
   "id": "b4a0e06f-906a-4586-be3b-b1baaef384c2",
   "metadata": {},
   "outputs": [
    {
     "name": "stdout",
     "output_type": "stream",
     "text": [
      "1.4142135623730951\n"
     ]
    }
   ],
   "source": [
    "print (2**0.5) # it givs us the root of two because we are using 0.5"
   ]
  },
  {
   "cell_type": "code",
   "execution_count": null,
   "id": "d3123b51-2857-4e48-a45c-f3b83994492a",
   "metadata": {},
   "outputs": [],
   "source": [
    "print"
   ]
  }
 ],
 "metadata": {
  "kernelspec": {
   "display_name": "Python 3 (ipykernel)",
   "language": "python",
   "name": "python3"
  },
  "language_info": {
   "codemirror_mode": {
    "name": "ipython",
    "version": 3
   },
   "file_extension": ".py",
   "mimetype": "text/x-python",
   "name": "python",
   "nbconvert_exporter": "python",
   "pygments_lexer": "ipython3",
   "version": "3.11.4"
  }
 },
 "nbformat": 4,
 "nbformat_minor": 5
}
