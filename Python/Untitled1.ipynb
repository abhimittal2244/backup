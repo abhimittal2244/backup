{
 "cells": [
  {
   "cell_type": "code",
   "execution_count": 3,
   "id": "8cb2fc10-42ab-4669-b691-44b90a051fb0",
   "metadata": {},
   "outputs": [
    {
     "name": "stdout",
     "output_type": "stream",
     "text": [
      "[]\n"
     ]
    }
   ],
   "source": [
    "my_list = list()\n",
    "print((my_list))"
   ]
  },
  {
   "cell_type": "code",
   "execution_count": 14,
   "id": "322aa8b3-365e-43eb-8f7d-1315ba774b83",
   "metadata": {},
   "outputs": [
    {
     "name": "stdout",
     "output_type": "stream",
     "text": [
      "hello\n",
      "[6, 7, 9]\n",
      "hi\n",
      "i\n"
     ]
    }
   ],
   "source": [
    "my_list=['hello',[6,7,9],\"hi\"]\n",
    "print(my_list[0])\n",
    "print(my_list[1])\n",
    "print(my_list[2])\n",
    "print(my_list[-1][-1])"
   ]
  },
  {
   "cell_type": "code",
   "execution_count": 17,
   "id": "049ccae4-bb62-481e-b84f-1cbf71a2c49f",
   "metadata": {},
   "outputs": [
    {
     "name": "stdout",
     "output_type": "stream",
     "text": [
      "[1, 3, 5, [7, 5, 7]]\n"
     ]
    }
   ],
   "source": [
    "odd = [1, 3, 5] \n",
    "odd.append([7, 5, 7])\n",
    "print(odd)"
   ]
  },
  {
   "cell_type": "code",
   "execution_count": 18,
   "id": "f5c20f65-5fbe-43e2-b9ba-33bf37d92dc7",
   "metadata": {},
   "outputs": [
    {
     "name": "stdout",
     "output_type": "stream",
     "text": [
      "[2, 3, 5, 7, 9]\n"
     ]
    }
   ],
   "source": [
    "odd = [2, 4, 6, 8]\n",
    "# replacing all items from index 1 to 3 with new items\n",
    "odd[1:4] = [3, 5, 7,9]\n",
    "print(odd) "
   ]
  },
  {
   "cell_type": "code",
   "execution_count": 24,
   "id": "07ad1920-2caa-423f-aa82-04c124a4cfa3",
   "metadata": {},
   "outputs": [
    {
     "name": "stdout",
     "output_type": "stream",
     "text": [
      "[1, 9, 9, 8, 7, 6]\n"
     ]
    }
   ],
   "source": [
    "odd = [1, 9]\n",
    "odd[3:2]=(9,8,7,6) # 1 is index and 3 is item\n",
    "print(odd)"
   ]
  },
  {
   "cell_type": "code",
   "execution_count": 26,
   "id": "5a272883-df3a-4206-b00e-e2b8f582bd5a",
   "metadata": {},
   "outputs": [
    {
     "name": "stdout",
     "output_type": "stream",
     "text": [
      "['p', 'e', 'm']\n"
     ]
    }
   ],
   "source": [
    "my_list = ['p', 'r', 'o', 'b', 'l', 'e', 'm'] \n",
    "del my_list[1:5]\n",
    "print(my_list) "
   ]
  },
  {
   "cell_type": "code",
   "execution_count": 30,
   "id": "69a515fe-ac57-4681-8062-202c99f4b7c8",
   "metadata": {},
   "outputs": [
    {
     "name": "stdout",
     "output_type": "stream",
     "text": [
      "m\n",
      "['p', 'r', 'o', 'b', 'l', 'e']\n"
     ]
    }
   ],
   "source": [
    "my_list = ['p','r','o','b','l','e','m']\n",
    "print(my_list.pop())\n",
    "print(my_list) "
   ]
  },
  {
   "cell_type": "code",
   "execution_count": 31,
   "id": "916aa1c7-dc0d-4a03-bfe7-58d6c8e7f536",
   "metadata": {},
   "outputs": [
    {
     "name": "stdout",
     "output_type": "stream",
     "text": [
      "l\n",
      "['p', 'r', 'o', 'b', 'e', 'm']\n"
     ]
    }
   ],
   "source": [
    "my_list = ['p','r','o','b','l','e','m']\n",
    "data = my_list.pop(my_list.index('l'))\n",
    "print(data)\n",
    "print(my_list)"
   ]
  },
  {
   "cell_type": "code",
   "execution_count": 35,
   "id": "a762337d-4d37-415a-af6f-1ec85e1c756c",
   "metadata": {},
   "outputs": [
    {
     "name": "stdout",
     "output_type": "stream",
     "text": [
      "['p', 'r', 'o', 'b', 'l', 'e', 'm']\n",
      "['p', 'r', 'o', 'b', 'l', 'e', 'm']\n"
     ]
    },
    {
     "data": {
      "text/plain": [
       "1"
      ]
     },
     "execution_count": 35,
     "metadata": {},
     "output_type": "execute_result"
    }
   ],
   "source": [
    "my_list = ['p','r','o','b','l','e','m']\n",
    "my_list1= my_list.copy()\n",
    "print(my_list1)\n",
    "print(my_list)\n",
    "my_list.count('b')"
   ]
  },
  {
   "cell_type": "code",
   "execution_count": 41,
   "id": "72ff7567-10c7-4660-a43f-80d25425c970",
   "metadata": {},
   "outputs": [
    {
     "ename": "SyntaxError",
     "evalue": "invalid syntax. Perhaps you forgot a comma? (1830634617.py, line 2)",
     "output_type": "error",
     "traceback": [
      "\u001b[1;36m  Cell \u001b[1;32mIn[41], line 2\u001b[1;36m\u001b[0m\n\u001b[1;33m    print(lst1[])\u001b[0m\n\u001b[1;37m          ^\u001b[0m\n\u001b[1;31mSyntaxError\u001b[0m\u001b[1;31m:\u001b[0m invalid syntax. Perhaps you forgot a comma?\n"
     ]
    }
   ],
   "source": [
    "lst1=[1,4,6]\n",
    "print(lst1[])"
   ]
  },
  {
   "cell_type": "code",
   "execution_count": 43,
   "id": "7d66adb7-b014-49e3-895f-89490fa556ed",
   "metadata": {},
   "outputs": [
    {
     "name": "stdout",
     "output_type": "stream",
     "text": [
      "[[1, 3, 5, 7, 9], [2, 4, 6, 8, 10]]\n"
     ]
    }
   ],
   "source": [
    "a = [1, 3, 5, 7, 9]\n",
    "b = [2, 4, 6, 8, 10]\n",
    "c = [a, b]\n",
    "print(c) "
   ]
  },
  {
   "cell_type": "code",
   "execution_count": 2,
   "id": "1dbed44a-e518-4ac8-94b5-ded2daaa7280",
   "metadata": {},
   "outputs": [
    {
     "name": "stdout",
     "output_type": "stream",
     "text": [
      "5\n"
     ]
    }
   ],
   "source": [
    "# statement 1\n",
    "list1 = range(100, 110) \n",
    " \n",
    "# statement 2\n",
    "print (list1.index(105))"
   ]
  },
  {
   "cell_type": "code",
   "execution_count": 1,
   "id": "310708e5-1aba-401d-8922-da14478f7f91",
   "metadata": {},
   "outputs": [
    {
     "name": "stdin",
     "output_type": "stream",
     "text": [
      "Enter a number:  5\n",
      "Enter a number:  5\n"
     ]
    }
   ],
   "source": [
    "num = int(input('Enter a number: '))\n",
    "while num != 5 :\n",
    "    print(num, num * num)\n",
    "num = int(input('Enter a number: '))"
   ]
  },
  {
   "cell_type": "code",
   "execution_count": 4,
   "id": "3ca45f6a-1b22-4069-af22-82a0dc6cc165",
   "metadata": {},
   "outputs": [
    {
     "name": "stdout",
     "output_type": "stream",
     "text": [
      "0 0 0\n",
      "1 1 1\n",
      "2 4 8\n",
      "3 9 27\n",
      "4 16 64\n",
      "5 25 125\n",
      "6 36 216\n",
      "7 49 343\n",
      "8 64 512\n",
      "9 81 729\n"
     ]
    }
   ],
   "source": [
    "count = 0\n",
    "while count < 10 :\n",
    "    print(count, count * count, count * count * count)\n",
    "    count += 1"
   ]
  },
  {
   "cell_type": "code",
   "execution_count": 5,
   "id": "c7a5c36e-3f2a-4f67-b2f4-b83da500e265",
   "metadata": {},
   "outputs": [
    {
     "name": "stdout",
     "output_type": "stream",
     "text": [
      "0 M desert 10\n",
      "1 u dessert 20\n",
      "2 m to 30\n",
      "3 b too -20\n",
      "4 a lose -10\n"
     ]
    },
    {
     "ename": "IndexError",
     "evalue": "tuple index out of range",
     "output_type": "error",
     "traceback": [
      "\u001b[1;31m---------------------------------------------------------------------------\u001b[0m",
      "\u001b[1;31mIndexError\u001b[0m                                Traceback (most recent call last)",
      "Cell \u001b[1;32mIn[5], line 6\u001b[0m\n\u001b[0;32m      4\u001b[0m i \u001b[38;5;241m=\u001b[39m \u001b[38;5;241m0\u001b[39m\n\u001b[0;32m      5\u001b[0m \u001b[38;5;28;01mwhile\u001b[39;00m i \u001b[38;5;241m<\u001b[39m \u001b[38;5;28mlen\u001b[39m(lst) :\n\u001b[1;32m----> 6\u001b[0m     \u001b[38;5;28mprint\u001b[39m(i, s[i], lst[i], \u001b[43mtpl\u001b[49m\u001b[43m[\u001b[49m\u001b[43mi\u001b[49m\u001b[43m]\u001b[49m)\n\u001b[0;32m      7\u001b[0m     i \u001b[38;5;241m+\u001b[39m\u001b[38;5;241m=\u001b[39m \u001b[38;5;241m1\u001b[39m\n",
      "\u001b[1;31mIndexError\u001b[0m: tuple index out of range"
     ]
    }
   ],
   "source": [
    "s = 'Mumbai'\n",
    "lst = ['desert', 'dessert', 'to', 'too', 'lose', 'loose']\n",
    "tpl = (10, 20, 30, -20, -10)\n",
    "i = 0\n",
    "while i < len(lst) :\n",
    "    print(i, s[i], lst[i], tpl[i])\n",
    "    i += 1"
   ]
  },
  {
   "cell_type": "code",
   "execution_count": 7,
   "id": "a95e9d3c-9f48-4cb2-b772-d11749cb298d",
   "metadata": {},
   "outputs": [
    {
     "name": "stdout",
     "output_type": "stream",
     "text": [
      "1 1 1\n",
      "3 9 27\n",
      "5 25 125\n",
      "7 49 343\n",
      "9 81 729\n"
     ]
    }
   ],
   "source": [
    "for i in range(1, 10, 2) :\n",
    "    print(i, i * i, i * i * i)\n"
   ]
  },
  {
   "cell_type": "code",
   "execution_count": 8,
   "id": "fd061a53-4842-46e7-8897-78093d3e24f5",
   "metadata": {},
   "outputs": [
    {
     "name": "stdout",
     "output_type": "stream",
     "text": [
      "L\n",
      "e\n",
      "o\n",
      "p\n",
      "a\n",
      "r\n",
      "d\n",
      "Cat\n",
      "Dog\n",
      "Tiger\n",
      "Lion\n",
      "Leopard\n",
      "Rose\n",
      "Lily\n",
      "Jasmine\n",
      "-25\n",
      "10\n",
      "20\n",
      "-10\n",
      "30\n",
      "A101\n",
      "A111\n",
      "A112\n"
     ]
    }
   ],
   "source": [
    "for char in 'Leopard' :\n",
    "    print(char)\n",
    "for animal in ['Cat', 'Dog', 'Tiger', 'Lion', 'Leopard'] :\n",
    "    print(animal)\n",
    "for flower in ('Rose', 'Lily', 'Jasmine') :\n",
    "    print(flower)\n",
    "for num in {10, 20, 30, -10, -25} :\n",
    "    print(num)\n",
    "for key in {'A101' : 'Rajesh', 'A111' : 'Sunil', 'A112' : 'Rakesh'} :\n",
    "    print(key)"
   ]
  },
  {
   "cell_type": "code",
   "execution_count": 18,
   "id": "04476f4c-58a9-4c1c-b1c7-392685d9f1e9",
   "metadata": {},
   "outputs": [
    {
     "name": "stdout",
     "output_type": "stream",
     "text": [
      "[['Abhi', 19, '25-12-2001'], ['Palak', 20, '23-05-2003']]\n",
      "Abhi 19 25-12-2001\n",
      "Palak 20 23-05-2003\n"
     ]
    }
   ],
   "source": [
    "import operator\n",
    "records = ( ['Abhi', 19, '25-12-2001'], ['Palak', 20, '23-05-2003'] );\n",
    "print(sorted(records, key = operator.itemgetter(0)))\n",
    "for a, b, c in records :\n",
    "    print(a, b, c)"
   ]
  },
  {
   "cell_type": "code",
   "execution_count": 24,
   "id": "09eb5e8a-3c10-4b2b-81d6-4ec0a8341954",
   "metadata": {},
   "outputs": [
    {
     "name": "stdout",
     "output_type": "stream",
     "text": [
      "('F', 'l', 'b', 'b')\n"
     ]
    }
   ],
   "source": [
    "tpl = ('F', 'l', 'a', 'b', 'b')\n",
    "#tpl = tpl + ('!',)\n",
    "tpl = tpl[:2] + tpl[3:]\n",
    "print(tpl)"
   ]
  },
  {
   "cell_type": "code",
   "execution_count": null,
   "id": "1e20f1b6-3b94-424c-aa4d-cd3bf35d8610",
   "metadata": {},
   "outputs": [],
   "source": []
  }
 ],
 "metadata": {
  "kernelspec": {
   "display_name": "Python 3 (ipykernel)",
   "language": "python",
   "name": "python3"
  },
  "language_info": {
   "codemirror_mode": {
    "name": "ipython",
    "version": 3
   },
   "file_extension": ".py",
   "mimetype": "text/x-python",
   "name": "python",
   "nbconvert_exporter": "python",
   "pygments_lexer": "ipython3",
   "version": "3.11.4"
  }
 },
 "nbformat": 4,
 "nbformat_minor": 5
}
