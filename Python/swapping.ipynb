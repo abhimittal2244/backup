{
 "cells": [
  {
   "cell_type": "code",
   "execution_count": 1,
   "id": "601c1f76-f9ed-4d1c-829b-9f6e5aceccbf",
   "metadata": {},
   "outputs": [
    {
     "name": "stdout",
     "output_type": "stream",
     "text": [
      "10\n",
      "5\n"
     ]
    }
   ],
   "source": [
    "x=5\n",
    "y=10  # swapping using three variable\n",
    "c=x\n",
    "x=y\n",
    "y=c\n",
    "print(x)\n",
    "print(y)\n"
   ]
  },
  {
   "cell_type": "code",
   "execution_count": 2,
   "id": "87bd49fb-6580-4dd3-9556-0db25de7ba83",
   "metadata": {},
   "outputs": [
    {
     "name": "stdout",
     "output_type": "stream",
     "text": [
      "20 10\n"
     ]
    }
   ],
   "source": [
    "a=10 # swapping with using arithmetic operation\n",
    "b=20\n",
    "b=b-a\n",
    "a=a+b\n",
    "print (a,b)\n"
   ]
  },
  {
   "cell_type": "code",
   "execution_count": null,
   "id": "ecd54a21-c96e-43a4-8139-75580fcc3f49",
   "metadata": {},
   "outputs": [],
   "source": []
  }
 ],
 "metadata": {
  "kernelspec": {
   "display_name": "Python 3 (ipykernel)",
   "language": "python",
   "name": "python3"
  },
  "language_info": {
   "codemirror_mode": {
    "name": "ipython",
    "version": 3
   },
   "file_extension": ".py",
   "mimetype": "text/x-python",
   "name": "python",
   "nbconvert_exporter": "python",
   "pygments_lexer": "ipython3",
   "version": "3.11.4"
  }
 },
 "nbformat": 4,
 "nbformat_minor": 5
}
