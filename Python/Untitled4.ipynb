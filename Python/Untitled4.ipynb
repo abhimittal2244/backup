{
 "cells": [
  {
   "cell_type": "code",
   "execution_count": 3,
   "id": "396e22be-9f54-44cf-9bfa-463484ca554a",
   "metadata": {},
   "outputs": [
    {
     "data": {
      "text/plain": [
       "[1, 2, 4, 1, 3, 4]"
      ]
     },
     "execution_count": 3,
     "metadata": {},
     "output_type": "execute_result"
    }
   ],
   "source": [
    "l1=[1,2,4]\n",
    "l2=[1,3,4]\n"
   ]
  },
  {
   "cell_type": "code",
   "execution_count": 1,
   "id": "4f9e74a5-d4f1-4685-85c2-0cf0dd4481cc",
   "metadata": {},
   "outputs": [
    {
     "ename": "SyntaxError",
     "evalue": "invalid syntax (1825529277.py, line 15)",
     "output_type": "error",
     "traceback": [
      "\u001b[1;36m  Cell \u001b[1;32mIn[1], line 15\u001b[1;36m\u001b[0m\n\u001b[1;33m    print(\"m\",end\" \")\u001b[0m\n\u001b[1;37m                 ^\u001b[0m\n\u001b[1;31mSyntaxError\u001b[0m\u001b[1;31m:\u001b[0m invalid syntax\n"
     ]
    }
   ],
   "source": [
    "from queue import queue\n",
    "graph={\n",
    "    A:['B','C'],\n",
    "    B:['D','E'],\n",
    "    C:['F'],\n",
    "    D:[]\n",
    "}\n",
    "visited=[]\n",
    "queue=[]\n",
    "def bfs(visited,graph,node):\n",
    "    visited.appened(node)\n",
    "    queue.appened(node)\n",
    "    while queue:\n",
    "        a=queue.pop()\n",
    "        print(m,end\" \")\n",
    "        for(neighbour in graph[m]):\n",
    "        if neighbour not in visited:\n",
    "        visited.appened(neighbour)\n",
    "        queue.appened(neighbour)\n",
    "bfs(visited,graph,B)\n",
    "        \n",
    "        \n",
    "        \n",
    "        \n",
    "\n"
   ]
  },
  {
   "cell_type": "code",
   "execution_count": 6,
   "id": "d7897259-21c2-4bcf-9241-dc60828bb43e",
   "metadata": {},
   "outputs": [
    {
     "name": "stdout",
     "output_type": "stream",
     "text": [
      "found\n"
     ]
    }
   ],
   "source": [
    "def bfs(g,start,end):\n",
    "    queue=[start]\n",
    "    visited=[]\n",
    "    while len(queue)!=0:\n",
    "        node=queue[0]\n",
    "        queue=queue[1:]\n",
    "        if node==end:\n",
    "            print(\"found\")\n",
    "            return\n",
    "        else:\n",
    "            visited.append(node)\n",
    "            for i in g[node]:\n",
    "                if i not in queue and visited:\n",
    "                    queue.append(i)\n",
    "    print(\"not found\")\n",
    "            \n",
    "\n",
    "\n",
    "\n",
    "\n",
    "graph={\n",
    "    'A':['B','C'],\n",
    "    'B':['D','E'],\n",
    "    'C':['F'],\n",
    "    'D':[],\n",
    "    'E':[],\n",
    "    'F':[]\n",
    "}\n",
    "bfs(graph,'A','F')\n",
    "\n",
    "    "
   ]
  },
  {
   "cell_type": "code",
   "execution_count": null,
   "id": "fb56b0e8-06ba-4e3c-ab63-0d61576b74d0",
   "metadata": {},
   "outputs": [],
   "source": []
  }
 ],
 "metadata": {
  "kernelspec": {
   "display_name": "Python 3 (ipykernel)",
   "language": "python",
   "name": "python3"
  },
  "language_info": {
   "codemirror_mode": {
    "name": "ipython",
    "version": 3
   },
   "file_extension": ".py",
   "mimetype": "text/x-python",
   "name": "python",
   "nbconvert_exporter": "python",
   "pygments_lexer": "ipython3",
   "version": "3.11.4"
  }
 },
 "nbformat": 4,
 "nbformat_minor": 5
}
