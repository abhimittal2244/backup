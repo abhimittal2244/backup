{
 "cells": [
  {
   "cell_type": "code",
   "execution_count": 7,
   "id": "efb70b4d-e493-4d6e-ab0d-b4271d4b7937",
   "metadata": {},
   "outputs": [
    {
     "name": "stdout",
     "output_type": "stream",
     "text": [
      "6\n",
      "915.0625\n",
      "5.5\n",
      "12\n",
      "120\n",
      "0b100\n",
      "True\n"
     ]
    }
   ],
   "source": [
    "a=4\n",
    "b=5.5\n",
    "c=[120,56,12]\n",
    "print(round(b))\n",
    "print (pow (b,a))\n",
    "print (abs(b))\n",
    "print(min(c))\n",
    "print(max(c))\n",
    "print(bin(a))\n",
    "print(bool(a))\n"
   ]
  },
  {
   "cell_type": "code",
   "execution_count": null,
   "id": "d8146018-4ead-429e-a8f6-f15c55307dd1",
   "metadata": {},
   "outputs": [],
   "source": []
  }
 ],
 "metadata": {
  "kernelspec": {
   "display_name": "Python 3 (ipykernel)",
   "language": "python",
   "name": "python3"
  },
  "language_info": {
   "codemirror_mode": {
    "name": "ipython",
    "version": 3
   },
   "file_extension": ".py",
   "mimetype": "text/x-python",
   "name": "python",
   "nbconvert_exporter": "python",
   "pygments_lexer": "ipython3",
   "version": "3.11.4"
  }
 },
 "nbformat": 4,
 "nbformat_minor": 5
}
