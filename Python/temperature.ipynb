{
 "cells": [
  {
   "cell_type": "code",
   "execution_count": 1,
   "id": "b1deb4ec-6368-41d9-8868-d88b5b3b9931",
   "metadata": {},
   "outputs": [
    {
     "name": "stdin",
     "output_type": "stream",
     "text": [
      "enter temperature in farenheit 47\n"
     ]
    },
    {
     "name": "stdout",
     "output_type": "stream",
     "text": [
      "47.0 in Fahrenheit is equal to 8.333333333333334 in Celsius\n"
     ]
    }
   ],
   "source": [
    "temp=float(input(\"enter temperature in farenheit\"))\n",
    "celsius= (temp-32)*5/9\n",
    "print(f\"{temp} in Fahrenheit is equal to {celsius} in Celsius\")"
   ]
  },
  {
   "cell_type": "code",
   "execution_count": 1,
   "id": "262ff7e2-1bda-46bf-be54-c67943b01080",
   "metadata": {},
   "outputs": [
    {
     "name": "stdout",
     "output_type": "stream",
     "text": [
      "1 2 3\n",
      "1 3 2\n",
      "2 1 3\n",
      "2 3 1\n",
      "3 1 2\n",
      "3 2 1\n"
     ]
    }
   ],
   "source": [
    "for i in range(1, 4):\n",
    "    for j in range(1, 4):\n",
    "        for k in range(1, 4):\n",
    "            if( i == j or j == k or k == i):\n",
    "                k = k + 1\n",
    "                continue\n",
    "            else:\n",
    "                print(i, j, k)"
   ]
  },
  {
   "cell_type": "code",
   "execution_count": 6,
   "id": "1eb67a9e-252f-4ec7-8a49-e974beb784a4",
   "metadata": {},
   "outputs": [
    {
     "name": "stdout",
     "output_type": "stream",
     "text": [
      "z\n",
      "y\n",
      "x\n",
      "w\n",
      "v\n",
      "u\n",
      "t\n",
      "s\n",
      "r\n",
      "q\n",
      "p\n",
      "o\n",
      "n\n",
      "m\n",
      "l\n",
      "k\n",
      "j\n",
      "i\n",
      "h\n",
      "g\n",
      "f\n",
      "e\n",
      "d\n",
      "c\n",
      "b\n",
      "a\n"
     ]
    }
   ],
   "source": [
    "lst=['A', 'B', 'C', 'D', 'E','F','G','H','I','J','K','L','M','N','O','P','Q','R','S','T','U','V','W','X','Y','Z']\n",
    "for i in reversed(range(len(lst))):\n",
    "    print(lst[i].lower())"
   ]
  },
  {
   "cell_type": "code",
   "execution_count": 8,
   "id": "082c8df5-02cf-453f-b73b-8eb85c0d252c",
   "metadata": {},
   "outputs": [
    {
     "name": "stdout",
     "output_type": "stream",
     "text": [
      "This is printing: 20\n"
     ]
    }
   ],
   "source": [
    "a = 20\n",
    "print(\"This is printing:\", a)"
   ]
  },
  {
   "cell_type": "code",
   "execution_count": 1,
   "id": "33906b54-91eb-469e-9047-2a561baf1692",
   "metadata": {},
   "outputs": [
    {
     "name": "stdout",
     "output_type": "stream",
     "text": [
      "[3, 5, 2, 4, 6, 8, 9, 11]\n"
     ]
    }
   ],
   "source": [
    "oddLst = [3, 5, 7, 9, 11]\n",
    "evenLst = [2, 4, 6, 8]\n",
    "oddLst = oddLst[0:2] + evenLst + oddLst[3:]\n",
    "print(oddLst)"
   ]
  },
  {
   "cell_type": "code",
   "execution_count": 2,
   "id": "1ddf5b96-807b-468e-8460-96526720faec",
   "metadata": {},
   "outputs": [
    {
     "name": "stdout",
     "output_type": "stream",
     "text": [
      "[1, 3, [2, 8, 12, 16], 13, 17]\n"
     ]
    }
   ],
   "source": [
    "lst = [1, 3, 9, 13, 17]\n",
    "lst[2] = [2, 8, 12, 16]\n",
    "print(lst"
   ]
  },
  {
   "cell_type": "code",
   "execution_count": 10,
   "id": "5a2f1b20-ce21-44fc-8178-a59803e66d18",
   "metadata": {},
   "outputs": [
    {
     "name": "stdout",
     "output_type": "stream",
     "text": [
      "[6, 2, 9, 0, 4, 9, 2, 0, 6, 8, 1, 9, 7, 7, 0, 8, 0, 6, 8, 9]\n"
     ]
    },
    {
     "name": "stdin",
     "output_type": "stream",
     "text": [
      "Enter a number between 0 - 9:  9\n"
     ]
    },
    {
     "name": "stdout",
     "output_type": "stream",
     "text": [
      "[2, 5, 11, 19]\n"
     ]
    }
   ],
   "source": [
    "import random, math\n",
    "lst= []\n",
    "for i in range(20):\n",
    "    lst.append(math.floor(10*random.random()))\n",
    "print(lst)\n",
    "key = int(input(\"Enter a number between 0 - 9: \"))\n",
    "indexList = []\n",
    "for i, val in enumerate(lst):\n",
    "    if val == key:\n",
    "        indexList.append(i)\n",
    "print(indexList)\n"
   ]
  },
  {
   "cell_type": "code",
   "execution_count": 12,
   "id": "bcd3204f-06c4-4842-84e8-e5d90f5a9d68",
   "metadata": {},
   "outputs": [
    {
     "name": "stdout",
     "output_type": "stream",
     "text": [
      "[(1, 2), (3, 4)]\n"
     ]
    }
   ],
   "source": [
    "t = [(), (1, 2), (), (3, 4)]\n",
    "lst1 = []\n",
    "for i in t:\n",
    "    if len(i) != 0:\n",
    "        lst1.append(i)\n",
    "print(lst1)"
   ]
  },
  {
   "cell_type": "code",
   "execution_count": 15,
   "id": "42fbe861-f2c8-47a7-8189-7605451dbee9",
   "metadata": {},
   "outputs": [
    {
     "name": "stdout",
     "output_type": "stream",
     "text": [
      "('Abhi', 'Palak')\n",
      "(202301002, 202301041)\n",
      "(50, 50)\n"
     ]
    }
   ],
   "source": [
    "lstNames = ['Abhi', 'Palak']\n",
    "lstRollNo = [202301002, 202301041]\n",
    "lstMarks = [50, 50]\n",
    "\n",
    "lstStu = [tuple(lstNames), tuple(lstRollNo), tuple(lstMarks)]\n",
    "\n",
    "tplNames = lstStu[0]\n",
    "tplRollNo = lstStu[1]\n",
    "tplMarks = lstStu[2]\n",
    "\n",
    "print(tplNames)\n",
    "print(tplRollNo)\n",
    "print(tplMarks)"
   ]
  },
  {
   "cell_type": "code",
   "execution_count": 17,
   "id": "19da0809-101f-4e94-b57c-fcc8a604ce72",
   "metadata": {},
   "outputs": [
    {
     "name": "stdout",
     "output_type": "stream",
     "text": [
      "460\n"
     ]
    }
   ],
   "source": [
    "dict1 = { 'oil': 100, 'beans': 80 }\n",
    "dict2 = { 'oil': 3, 'beans': 2 }\n",
    "total = 0\n",
    "for i in dict1:\n",
    "    total += dict1[i]*dict2[i]\n",
    "\n",
    "print(total)"
   ]
  },
  {
   "cell_type": "code",
   "execution_count": 30,
   "id": "213b928f-eea6-4fdc-bbfe-ff26ae04b032",
   "metadata": {},
   "outputs": [
    {
     "name": "stdout",
     "output_type": "stream",
     "text": [
      "palak Mittal\n",
      "{'palak Mittal', 'abhi'}\n"
     ]
    }
   ],
   "source": [
    "s = set()\n",
    "s.add(\"abhi\")\n",
    "s.add(\"palak\")\n",
    "item = s.pop()\n",
    "item += \" Mittal\"\n",
    "s.add(item)\n",
    "print(item)\n",
    "\n",
    "print(s)"
   ]
  },
  {
   "cell_type": "code",
   "execution_count": null,
   "id": "e90568a9-744c-4df8-80e7-f44a08b350f5",
   "metadata": {},
   "outputs": [],
   "source": []
  },
  {
   "cell_type": "code",
   "execution_count": null,
   "id": "239b8544-84e6-4525-8be2-83bfddf1a5f3",
   "metadata": {},
   "outputs": [],
   "source": []
  }
 ],
 "metadata": {
  "kernelspec": {
   "display_name": "Python 3 (ipykernel)",
   "language": "python",
   "name": "python3"
  },
  "language_info": {
   "codemirror_mode": {
    "name": "ipython",
    "version": 3
   },
   "file_extension": ".py",
   "mimetype": "text/x-python",
   "name": "python",
   "nbconvert_exporter": "python",
   "pygments_lexer": "ipython3",
   "version": "3.11.4"
  }
 },
 "nbformat": 4,
 "nbformat_minor": 5
}
