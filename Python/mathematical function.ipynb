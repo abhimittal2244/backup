{
 "cells": [
  {
   "cell_type": "code",
   "execution_count": 7,
   "id": "8bde8d59-1757-4aa8-95b1-d1d92d5f4ab8",
   "metadata": {},
   "outputs": [
    {
     "name": "stdout",
     "output_type": "stream",
     "text": [
      "3\n",
      "2\n",
      "2.3\n",
      "24\n",
      "1.51657508881031\n",
      "2\n",
      "54.598150033144236\n",
      "0.8329091229351039\n"
     ]
    }
   ],
   "source": [
    "import math\n",
    "x=2.3\n",
    "y=4\n",
    "print(math.ceil(x))\n",
    "print (math.floor(x))\n",
    "print(math.fabs(x))\n",
    "print(math.factorial(y))\n",
    "print(math.sqrt(x))\n",
    "print(math.trunc(x))\n",
    "print(math.exp(y))\n",
    "print(math.log(x))"
   ]
  },
  {
   "cell_type": "code",
   "execution_count": 9,
   "id": "21ffadd9-460c-442d-9793-53db1bc1b676",
   "metadata": {},
   "outputs": [
    {
     "name": "stdout",
     "output_type": "stream",
     "text": [
      "(8, 0)\n"
     ]
    }
   ],
   "source": [
    "x=2   #divmode it gives us the quotient and remainder\n",
    "y=16\n",
    "print(divmod(y,x))"
   ]
  },
  {
   "cell_type": "code",
   "execution_count": null,
   "id": "e8452f24-6d37-4617-bfdb-1ddafec3f9bd",
   "metadata": {},
   "outputs": [],
   "source": []
  }
 ],
 "metadata": {
  "kernelspec": {
   "display_name": "Python 3 (ipykernel)",
   "language": "python",
   "name": "python3"
  },
  "language_info": {
   "codemirror_mode": {
    "name": "ipython",
    "version": 3
   },
   "file_extension": ".py",
   "mimetype": "text/x-python",
   "name": "python",
   "nbconvert_exporter": "python",
   "pygments_lexer": "ipython3",
   "version": "3.11.4"
  }
 },
 "nbformat": 4,
 "nbformat_minor": 5
}
