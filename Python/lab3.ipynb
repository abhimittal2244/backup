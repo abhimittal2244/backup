{
 "cells": [
  {
   "cell_type": "code",
   "execution_count": 10,
   "id": "cb6cee0f-6649-477f-8611-fb285b4ff384",
   "metadata": {},
   "outputs": [
    {
     "name": "stdout",
     "output_type": "stream",
     "text": [
      "area is greater than perimeter\n"
     ]
    }
   ],
   "source": [
    "l=5\n",
    "b=4\n",
    "area=l*b\n",
    "perimeter=2*(l+b)\n",
    "if(area<perimeter):\n",
    "    print(\"area is smaller than perimeter\")\n",
    "else:\n",
    "    print(\"area is greater than perimeter\")\n",
    "\n",
    "\n"
   ]
  },
  {
   "cell_type": "code",
   "execution_count": 29,
   "id": "6be58b4e-5b8d-41b1-b655-810cbe722ac9",
   "metadata": {},
   "outputs": [
    {
     "name": "stdin",
     "output_type": "stream",
     "text": [
      "enter x1 and y1 1,5\n",
      "enter x2 and y2 5,5\n",
      "enter x3 and y3 10,5\n"
     ]
    },
    {
     "name": "stdout",
     "output_type": "stream",
     "text": [
      "The value of slope is :  0.0\n",
      " the value of c is 5.0\n",
      "the vlue of y is:  5.0\n",
      "line is on the same slope\n"
     ]
    }
   ],
   "source": [
    "x1,y1 = eval(input(\"enter x1 and y1\"))\n",
    "x2,y2 = eval(input(\"enter x2 and y2\"))\n",
    "x3,y3 = eval(input(\"enter x3 and y3\"))\n",
    "m=(y2-y1)/(x2-x1)\n",
    "print(\"The value of slope is : \",m)\n",
    "c=(y1-m*x1)\n",
    "print(\" the value of c is\",c)\n",
    "temp=m*x3+c\n",
    "print(\"the vlue of y is: \",temp)\n",
    "if(y3==temp):\n",
    "    print(\"line is on the same slope\")\n",
    "else:\n",
    "    print(\"line is not on the same slope\")\n",
    "\n",
    "\n",
    "\n"
   ]
  },
  {
   "cell_type": "code",
   "execution_count": 30,
   "id": "0a78c13a-656d-41a4-84e4-da5b61181e40",
   "metadata": {},
   "outputs": [
    {
     "name": "stdin",
     "output_type": "stream",
     "text": [
      "enter the value of x 10\n",
      "enter the value of y 5\n",
      "enter the value of r 3\n"
     ]
    },
    {
     "ename": "NameError",
     "evalue": "name 'x' is not defined",
     "output_type": "error",
     "traceback": [
      "\u001b[1;31m---------------------------------------------------------------------------\u001b[0m",
      "\u001b[1;31mNameError\u001b[0m                                 Traceback (most recent call last)",
      "Cell \u001b[1;32mIn[30], line 5\u001b[0m\n\u001b[0;32m      3\u001b[0m \u001b[38;5;28minput\u001b[39m(\u001b[38;5;124m\"\u001b[39m\u001b[38;5;124menter the value of y\u001b[39m\u001b[38;5;124m\"\u001b[39m)\n\u001b[0;32m      4\u001b[0m \u001b[38;5;28minput\u001b[39m(\u001b[38;5;124m\"\u001b[39m\u001b[38;5;124menter the value of r\u001b[39m\u001b[38;5;124m\"\u001b[39m)\n\u001b[1;32m----> 5\u001b[0m temp\u001b[38;5;241m=\u001b[39mmath\u001b[38;5;241m.\u001b[39msqrt(\u001b[38;5;28mpow\u001b[39m(\u001b[43mx\u001b[49m)\u001b[38;5;241m+\u001b[39m\u001b[38;5;28mpow\u001b[39m(y)\u001b[38;5;241m-\u001b[39m\u001b[38;5;28mpow\u001b[39m(r))\n\u001b[0;32m      6\u001b[0m \u001b[38;5;28;01mif\u001b[39;00m(temp\u001b[38;5;241m==\u001b[39m\u001b[38;5;241m0\u001b[39m):\n\u001b[0;32m      7\u001b[0m     \u001b[38;5;28mprint\u001b[39m(\u001b[38;5;124m\"\u001b[39m\u001b[38;5;124mthe point is on the circle\u001b[39m\u001b[38;5;124m\"\u001b[39m)\n",
      "\u001b[1;31mNameError\u001b[0m: name 'x' is not defined"
     ]
    }
   ],
   "source": [
    "import math\n",
    "input(\"enter the value of x\")\n",
    "input(\"enter the value of y\")\n",
    "input(\"enter the value of r\")\n",
    "temp=math.sqrt(pow(x)+pow(y)-pow(r))\n",
    "if(temp==0):\n",
    "    print(\"the point is on the circle\")\n",
    "elif(temp<1):\n",
    "    print(\"the point is inside the circle\")\n",
    "else:\n",
    "    print(\"the point is outside the circle\")\n",
    "\n",
    "\n",
    "\n",
    "\n",
    "\n",
    "\n"
   ]
  },
  {
   "cell_type": "code",
   "execution_count": 4,
   "id": "8ed4cd15-bbe2-4caf-8e9c-8b72f7f7ea16",
   "metadata": {},
   "outputs": [
    {
     "name": "stdout",
     "output_type": "stream",
     "text": [
      " this \n",
      "is \n",
      "nultiline\n",
      "string\n",
      "('mouse\\nis  also\\nmultiline', [8, 4, 6], (1, 2, 3))\n"
     ]
    }
   ],
   "source": [
    "str = \"\"\" this \n",
    "is \n",
    "nultiline\n",
    "string\"\"\"\n",
    "print(str)\n",
    "my_tuple = (\"\"\"mouse\n",
    "is  also\n",
    "multiline\"\"\", [8, 4, 6], (1, 2, 3)) \n",
    "print (my_tuple)\n"
   ]
  },
  {
   "cell_type": "code",
   "execution_count": 6,
   "id": "00047a2a-2798-4d5c-86c4-2448ffb47c73",
   "metadata": {},
   "outputs": [
    {
     "ename": "IndexError",
     "evalue": "tuple index out of range",
     "output_type": "error",
     "traceback": [
      "\u001b[1;31m---------------------------------------------------------------------------\u001b[0m",
      "\u001b[1;31mIndexError\u001b[0m                                Traceback (most recent call last)",
      "Cell \u001b[1;32mIn[6], line 2\u001b[0m\n\u001b[0;32m      1\u001b[0m my_tuple \u001b[38;5;241m=\u001b[39m (\u001b[38;5;124m'\u001b[39m\u001b[38;5;124mT\u001b[39m\u001b[38;5;124m'\u001b[39m, \u001b[38;5;124m'\u001b[39m\u001b[38;5;124mh\u001b[39m\u001b[38;5;124m'\u001b[39m, \u001b[38;5;124m'\u001b[39m\u001b[38;5;124ma\u001b[39m\u001b[38;5;124m'\u001b[39m, \u001b[38;5;124m'\u001b[39m\u001b[38;5;124mp\u001b[39m\u001b[38;5;124m'\u001b[39m, \u001b[38;5;124m'\u001b[39m\u001b[38;5;124ma\u001b[39m\u001b[38;5;124m'\u001b[39m, \u001b[38;5;124m'\u001b[39m\u001b[38;5;124mr\u001b[39m\u001b[38;5;124m'\u001b[39m, ) \n\u001b[1;32m----> 2\u001b[0m \u001b[38;5;28mprint\u001b[39m(\u001b[43mmy_tuple\u001b[49m\u001b[43m[\u001b[49m\u001b[38;5;241;43m7\u001b[39;49m\u001b[43m]\u001b[49m) \n",
      "\u001b[1;31mIndexError\u001b[0m: tuple index out of range"
     ]
    }
   ],
   "source": [
    "my_tuple = ('T', 'h', 'a', 'p', 'a', 'r', ) \n",
    "print(my_tuple[7]) \n",
    "\n"
   ]
  },
  {
   "cell_type": "code",
   "execution_count": 12,
   "id": "21567fde-38b0-40fa-ab38-7556f9d6996c",
   "metadata": {},
   "outputs": [
    {
     "ename": "TypeError",
     "evalue": "'str' object does not support item assignment",
     "output_type": "error",
     "traceback": [
      "\u001b[1;31m---------------------------------------------------------------------------\u001b[0m",
      "\u001b[1;31mTypeError\u001b[0m                                 Traceback (most recent call last)",
      "Cell \u001b[1;32mIn[12], line 2\u001b[0m\n\u001b[0;32m      1\u001b[0m \u001b[38;5;28mstr\u001b[39m \u001b[38;5;241m=\u001b[39m \u001b[38;5;124m\"\u001b[39m\u001b[38;5;124mhello\u001b[39m\u001b[38;5;124m\"\u001b[39m\n\u001b[1;32m----> 2\u001b[0m \u001b[38;5;28;43mstr\u001b[39;49m\u001b[43m[\u001b[49m\u001b[38;5;241;43m0\u001b[39;49m\u001b[43m]\u001b[49m\u001b[38;5;241m=\u001b[39m\u001b[38;5;124m\"\u001b[39m\u001b[38;5;124mp\u001b[39m\u001b[38;5;124m\"\u001b[39m\n\u001b[0;32m      3\u001b[0m \u001b[38;5;28mprint\u001b[39m(\u001b[38;5;28mstr\u001b[39m)\n\u001b[0;32m      4\u001b[0m my_tuple\u001b[38;5;241m=\u001b[39m(\u001b[38;5;241m23\u001b[39m,[\u001b[38;5;241m1\u001b[39m,\u001b[38;5;241m2\u001b[39m,\u001b[38;5;241m3\u001b[39m],\u001b[38;5;124m\"\u001b[39m\u001b[38;5;124mhello\u001b[39m\u001b[38;5;124m\"\u001b[39m)\n",
      "\u001b[1;31mTypeError\u001b[0m: 'str' object does not support item assignment"
     ]
    }
   ],
   "source": [
    "str = \"hello\"\n",
    "str[0]=\"p\"\n",
    "print(str)\n",
    "my_tuple=(23,[1,2,3],\"hello\")\n",
    "my_tuple[1][0]=20\n",
    "#my_tuple[2][0]=\"P\"\n",
    "print(my_tuple)"
   ]
  },
  {
   "cell_type": "code",
   "execution_count": 19,
   "id": "d6692fab-e0c5-46a8-b998-9ed686d731d5",
   "metadata": {},
   "outputs": [
    {
     "name": "stdout",
     "output_type": "stream",
     "text": [
      "[1, 3, 4, 5, 5, 6, 7, 7, 8, 8]\n"
     ]
    }
   ],
   "source": [
    "thistuple = (1, 3, 7, 8, 7, 5, 4, 6, 8, 5)\n",
    "x=so(thistuple)\n",
    "print(x)"
   ]
  },
  {
   "cell_type": "code",
   "execution_count": 24,
   "id": "09c37ae4-1451-4286-8db5-b7e044479325",
   "metadata": {},
   "outputs": [
    {
     "name": "stdout",
     "output_type": "stream",
     "text": [
      "(12, 13, 15, 16, 17, 22, 23)\n",
      "(17, 16, 22, 23, 13, 15, 12)\n",
      "(12, 15, 13, 23, 22, 16, 17)\n"
     ]
    }
   ],
   "source": [
    "tpl = (12, 15, 13, 23, 22, 16, 17)\n",
    "print(tuple(sorted(tpl)))\n",
    "print(tuple(reversed(tpl)))\n",
    "print(tpl)"
   ]
  },
  {
   "cell_type": "code",
   "execution_count": 25,
   "id": "26bff942-99f6-4707-ac71-83bb96a39622",
   "metadata": {},
   "outputs": [
    {
     "name": "stdout",
     "output_type": "stream",
     "text": [
      "Priyanka 24 3455.5\n"
     ]
    },
    {
     "ename": "ValueError",
     "evalue": "not enough values to unpack (expected 3, got 2)",
     "output_type": "error",
     "traceback": [
      "\u001b[1;31m---------------------------------------------------------------------------\u001b[0m",
      "\u001b[1;31mValueError\u001b[0m                                Traceback (most recent call last)",
      "Cell \u001b[1;32mIn[25], line 2\u001b[0m\n\u001b[0;32m      1\u001b[0m records \u001b[38;5;241m=\u001b[39m ( (\u001b[38;5;124m'\u001b[39m\u001b[38;5;124mPriyanka\u001b[39m\u001b[38;5;124m'\u001b[39m, \u001b[38;5;241m24\u001b[39m, \u001b[38;5;241m3455.50\u001b[39m), (\u001b[38;5;124m'\u001b[39m\u001b[38;5;124mShailesh\u001b[39m\u001b[38;5;124m'\u001b[39m, \u001b[38;5;241m25\u001b[39m), (\u001b[38;5;124m'\u001b[39m\u001b[38;5;124mSubhash\u001b[39m\u001b[38;5;124m'\u001b[39m, \u001b[38;5;241m25\u001b[39m, \u001b[38;5;241m4505.50\u001b[39m), (\u001b[38;5;124m'\u001b[39m\u001b[38;5;124mSugandh\u001b[39m\u001b[38;5;124m'\u001b[39m, \u001b[38;5;241m27\u001b[39m, \u001b[38;5;241m4455.55\u001b[39m) ) \n\u001b[1;32m----> 2\u001b[0m \u001b[38;5;28;01mfor\u001b[39;00m n, a, s \u001b[38;5;129;01min\u001b[39;00m records :\n\u001b[0;32m      3\u001b[0m     \u001b[38;5;28mprint\u001b[39m(n,a,s) \n",
      "\u001b[1;31mValueError\u001b[0m: not enough values to unpack (expected 3, got 2)"
     ]
    }
   ],
   "source": [
    "records = ( ('Priyanka', 24, 3455.50), ('Shailesh', 25), ('Subhash', 25, 4505.50), ('Sugandh', 27, 4455.55) ) \n",
    "for n, a, s in records :\n",
    "    print(n,a,s) "
   ]
  },
  {
   "cell_type": "code",
   "execution_count": 40,
   "id": "bb92f337-3944-413f-a19e-829579d9d3ee",
   "metadata": {},
   "outputs": [
    {
     "name": "stdout",
     "output_type": "stream",
     "text": [
      "('b', 'b')\n",
      "2\n",
      "True\n",
      "['F', 'l', 'a', 'b', 'b', 'e', 'r', 'g', 'a', 's', 't', 'e', 'd', '!']\n",
      "['F', 'l', 'a', 'g', 'a', 's', 't', 'e', 'd', '!']\n"
     ]
    }
   ],
   "source": [
    "x=('F', 'l', 'a', 'b', 'b', 'e', 'r', 'g', 'a', 's', 't', 'e', 'd')\n",
    "x = x + (\"!\",)\n",
    "\n",
    "\n",
    "print(x[3:5])\n",
    "print(x.count(\"e\"))\n",
    "print(\"r\" in x)\n",
    "x = list(x)\n",
    "print(x)\n",
    "x[3:7] = ()\n",
    "print(x)\n"
   ]
  },
  {
   "cell_type": "code",
   "execution_count": 44,
   "id": "a4dc8a87-4b25-463d-951c-ed69d4d1fde2",
   "metadata": {},
   "outputs": [
    {
     "name": "stdout",
     "output_type": "stream",
     "text": [
      "0 10\n",
      "1 20\n",
      "2 30\n",
      "3 40\n",
      "4 50\n"
     ]
    }
   ],
   "source": [
    "tpl = (10, 20, 30, 40, 50)\n",
    "for index, n in enumerate(tpl) :\n",
    "    print(index, n)"
   ]
  },
  {
   "cell_type": "code",
   "execution_count": 55,
   "id": "230e3145-8318-4811-9eb0-782f48d03804",
   "metadata": {},
   "outputs": [
    {
     "name": "stdout",
     "output_type": "stream",
     "text": [
      "(100, 900, 8, 70, 60, 50, 40, 30, 20, 10)\n"
     ]
    },
    {
     "data": {
      "text/plain": [
       "'a, b, c, d, e, f, g, h, i, j = tpl\\nprint(tpl)\\nprint(a, b, c, d, e, f, g, h, i, j)\\nx, _, _, _, _, _, _, _, _, y = tpl\\nprint(x, y, _)\\ni, *_, j = tpl\\nprint(i, j, _)'"
      ]
     },
     "execution_count": 55,
     "metadata": {},
     "output_type": "execute_result"
    }
   ],
   "source": [
    "tpl = (10, 20, 30, 40, 50, 60, 70, 8, 900, 100)\n",
    "t = tpl[::-1] \n",
    "print(t)\n",
    "'''a, b, c, d, e, f, g, h, i, j = tpl\n",
    "print(tpl)\n",
    "print(a, b, c, d, e, f, g, h, i, j)\n",
    "x, _, _, _, _, _, _, _, _, y = tpl\n",
    "print(x, y, _)\n",
    "i, *_, j = tpl\n",
    "print(i, j, _)'''\n"
   ]
  },
  {
   "cell_type": "code",
   "execution_count": 52,
   "id": "3568abc6-1225-44e5-8607-71b2071f5e42",
   "metadata": {},
   "outputs": [
    {
     "name": "stdout",
     "output_type": "stream",
     "text": [
      "['Shubha', 'Nisha', 'Sudha']\n"
     ]
    }
   ],
   "source": [
    "lst = [('A101', 'Shubha', 23), ('A104', 'Nisha', 25), ('A111', 'Sudha', 24)]\n",
    "nlst = [ ]\n",
    "for ele in lst:\n",
    "    nlst = nlst + [ele[1]]\n",
    "print(nlst)\n"
   ]
  },
  {
   "cell_type": "code",
   "execution_count": 54,
   "id": "2bbed051-2576-4a68-a8de-6376f2286838",
   "metadata": {},
   "outputs": [
    {
     "name": "stdout",
     "output_type": "stream",
     "text": [
      "[('apple', 12.5), ('sugar', 10.5)]\n"
     ]
    }
   ],
   "source": [
    "import operator\n",
    "lst=[('sugar', 10.5) , ('apple',12.5)]\n",
    "lst=sorted(lst,key= operator.itemgetter(1) ,reverse=True)\n",
    "print (lst)"
   ]
  },
  {
   "cell_type": "code",
   "execution_count": 56,
   "id": "e033f129-6a55-4f54-93cf-1ec9f2e73555",
   "metadata": {},
   "outputs": [
    {
     "name": "stdout",
     "output_type": "stream",
     "text": [
      "<class 'tuple'>\n"
     ]
    }
   ],
   "source": [
    "a = ()\n",
    "print(type(a))"
   ]
  },
  {
   "cell_type": "code",
   "execution_count": 80,
   "id": "05097cd9-6bfd-466e-8096-eb4c8a4e0014",
   "metadata": {},
   "outputs": [
    {
     "name": "stdout",
     "output_type": "stream",
     "text": [
      "True\n",
      "True\n"
     ]
    }
   ],
   "source": [
    "s = {}\n",
    "t = {25, 23,  55}\n",
    "newS = s\n",
    "print(len(newS)==0)\n",
    "print(all(t))"
   ]
  },
  {
   "cell_type": "code",
   "execution_count": 81,
   "id": "d149a33e-3291-49d7-a72a-f45c0ff60170",
   "metadata": {},
   "outputs": [
    {
     "name": "stdout",
     "output_type": "stream",
     "text": [
      "{'Vijay', 'Sujay', 'Ajay', 'Dinesh', 'Aditya'}\n"
     ]
    }
   ],
   "source": [
    "engineers = {'Vijay', 'Sanjay', 'Ajay', 'Sujay', 'Dinesh'}\n",
    "managers = {'Aditya', 'Sanjay'}\n",
    "\n",
    "print(managers ^ engineers)"
   ]
  },
  {
   "cell_type": "code",
   "execution_count": 88,
   "id": "9678fbfb-ae41-489b-9ac6-8210c8d1c643",
   "metadata": {},
   "outputs": [
    {
     "name": "stdout",
     "output_type": "stream",
     "text": [
      "DAA\n",
      "AOA\n",
      "SVY\n"
     ]
    }
   ],
   "source": [
    "courses = {'DAA' : 'CS', 'AOA' : 'ME', 'SVY' : 'CE' }\n",
    "# iterate over key-value pairs\n",
    "for k in courses :\n",
    "    print(k)"
   ]
  },
  {
   "cell_type": "code",
   "execution_count": 92,
   "id": "eb010ad1-6f4a-4fd5-83d3-891410648359",
   "metadata": {},
   "outputs": [
    {
     "ename": "ValueError",
     "evalue": "not enough values to unpack (expected 3, got 2)",
     "output_type": "error",
     "traceback": [
      "\u001b[1;31m---------------------------------------------------------------------------\u001b[0m",
      "\u001b[1;31mValueError\u001b[0m                                Traceback (most recent call last)",
      "Cell \u001b[1;32mIn[92], line 2\u001b[0m\n\u001b[0;32m      1\u001b[0m courses \u001b[38;5;241m=\u001b[39m {\u001b[38;5;124m'\u001b[39m\u001b[38;5;124mDAA\u001b[39m\u001b[38;5;124m'\u001b[39m : \u001b[38;5;124m'\u001b[39m\u001b[38;5;124mCS\u001b[39m\u001b[38;5;124m'\u001b[39m, \u001b[38;5;124m'\u001b[39m\u001b[38;5;124mAOA\u001b[39m\u001b[38;5;124m'\u001b[39m : \u001b[38;5;124m'\u001b[39m\u001b[38;5;124mME\u001b[39m\u001b[38;5;124m'\u001b[39m, \u001b[38;5;124m'\u001b[39m\u001b[38;5;124mSVY\u001b[39m\u001b[38;5;124m'\u001b[39m : \u001b[38;5;124m'\u001b[39m\u001b[38;5;124mCE\u001b[39m\u001b[38;5;124m'\u001b[39m }\n\u001b[1;32m----> 2\u001b[0m \u001b[38;5;28;01mfor\u001b[39;00m i, k, v \u001b[38;5;129;01min\u001b[39;00m \u001b[38;5;28menumerate\u001b[39m(courses\u001b[38;5;241m.\u001b[39mitems( )) :\n\u001b[0;32m      3\u001b[0m     \u001b[38;5;28mprint\u001b[39m(i,k, v)\n",
      "\u001b[1;31mValueError\u001b[0m: not enough values to unpack (expected 3, got 2)"
     ]
    }
   ],
   "source": [
    "courses = {'DAA' : 'CS', 'AOA' : 'ME', 'SVY' : 'CE' }\n",
    "for i, k, v in enumerate(courses.items( )) :\n",
    "    print(i,k, v)\n"
   ]
  },
  {
   "cell_type": "code",
   "execution_count": 99,
   "id": "ee9a8620-3ef8-4ad4-90e8-2ae59bb944aa",
   "metadata": {},
   "outputs": [
    {
     "name": "stdout",
     "output_type": "stream",
     "text": [
      "(1, 5) ME126\n",
      "(3, 2) ME102\n",
      "(5, 4) ME234\n"
     ]
    }
   ],
   "source": [
    "courses = { 'CS101' : 'CPP', 'CS102' : 'DS', 'CS201' : 'OOP'}\n",
    "d = { (1, 5) : 'ME126', (3, 2) : 'ME102', (5, 4) : 'ME234'}\n",
    "for k, v in d.items():\n",
    "    print(k,v)"
   ]
  },
  {
   "cell_type": "code",
   "execution_count": 105,
   "id": "bcfc27c1-e45c-4cbe-862a-76b4f327eb11",
   "metadata": {},
   "outputs": [
    {
     "name": "stdout",
     "output_type": "stream",
     "text": [
      "Anil\n",
      "\t DOB 17/11/98\n",
      "\t Favorite Igloo\n",
      "Amol\n",
      "\t DOB 14/10/99\n",
      "\t Favorite Tundra\n",
      "Ravi\n",
      "\t DOB 19/11/97\n",
      "\t Favorite Artic\n"
     ]
    }
   ],
   "source": [
    "contacts = {\n",
    "'Anil': {'DOB' : '17/11/98', 'Favorite' : 'Igloo'},\n",
    "'Amol': {'DOB' : '14/10/99', 'Favorite' : 'Tundra'},\n",
    "'Ravi': {'DOB' : '19/11/97', 'Favorite' : 'Artic'}\n",
    "}\n",
    "for k,v in contacts.items():\n",
    "    print(k)\n",
    "    for i, j in v.items():\n",
    "        print(\"\\t\",i, j)"
   ]
  },
  {
   "cell_type": "code",
   "execution_count": 111,
   "id": "358ce0ec-2dcb-4cae-a1b1-0826897a43eb",
   "metadata": {},
   "outputs": [
    {
     "name": "stdout",
     "output_type": "stream",
     "text": [
      "{12: [25, 26, 27, 28, 29], 13: [25, 26, 27, 28, 29], 14: [25, 26, 27, 28, 29], 15: [25, 26, 27, 28, 29], 16: [25, 26, 27, 28, 29]}\n"
     ]
    }
   ],
   "source": [
    "lst = [12, 13, 14, 15, 16]\n",
    "lst1 = [25, 26, 27, 28, 29]\n",
    "d = dict.fromkeys(lst, lst1)\n",
    "print(d)"
   ]
  },
  {
   "cell_type": "code",
   "execution_count": 2,
   "id": "8d18bdf6-fe7f-4ca8-aaf9-d33fb03ec953",
   "metadata": {},
   "outputs": [
    {
     "name": "stdout",
     "output_type": "stream",
     "text": [
      "Ford\n",
      "Mustang\n",
      "1964\n"
     ]
    }
   ],
   "source": [
    "thisdict = { \"brand\": \"Ford\", \"model\": \"Mustang\", \"year\": 1964}\n",
    "for x in thisdict:\n",
    "    print(thisdict[x])"
   ]
  },
  {
   "cell_type": "code",
   "execution_count": 4,
   "id": "5d62cc56-1e0f-462d-a2a7-ade86e616e62",
   "metadata": {},
   "outputs": [
    {
     "name": "stdout",
     "output_type": "stream",
     "text": [
      "[(1, 'ram'), (2, 'oil'), (3, 'aloo')]\n"
     ]
    }
   ],
   "source": [
    "d1={1:\"ram\",2:\"oil\",3:\"aloo\"}\n",
    "d=sorted(d1.items())\n",
    "print(d)"
   ]
  },
  {
   "cell_type": "code",
   "execution_count": null,
   "id": "f187237d-e757-450c-a3b6-66719704d968",
   "metadata": {},
   "outputs": [],
   "source": []
  }
 ],
 "metadata": {
  "kernelspec": {
   "display_name": "Python 3 (ipykernel)",
   "language": "python",
   "name": "python3"
  },
  "language_info": {
   "codemirror_mode": {
    "name": "ipython",
    "version": 3
   },
   "file_extension": ".py",
   "mimetype": "text/x-python",
   "name": "python",
   "nbconvert_exporter": "python",
   "pygments_lexer": "ipython3",
   "version": "3.11.4"
  }
 },
 "nbformat": 4,
 "nbformat_minor": 5
}
