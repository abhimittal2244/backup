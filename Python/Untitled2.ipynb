{
 "cells": [
  {
   "cell_type": "code",
   "execution_count": 2,
   "id": "84bfbbfe-211a-446b-a1cb-e47a73c63811",
   "metadata": {},
   "outputs": [
    {
     "name": "stdout",
     "output_type": "stream",
     "text": [
      "<class 'tuple'>\n"
     ]
    }
   ],
   "source": [
    "tpl=(\"Sanjay\",10,20.5)\n",
    "print(type(tpl))"
   ]
  },
  {
   "cell_type": "code",
   "execution_count": 2,
   "id": "22853f3a-88db-4c2a-981f-0a6bc9d39060",
   "metadata": {},
   "outputs": [
    {
     "name": "stdin",
     "output_type": "stream",
     "text": [
      "enter:  8, 4\n"
     ]
    },
    {
     "name": "stdout",
     "output_type": "stream",
     "text": [
      "gcd is:  4\n"
     ]
    }
   ],
   "source": [
    "def gcd(m, n):\n",
    "    if m<n:\n",
    "        small = m\n",
    "    else:\n",
    "        small = n\n",
    "    for i in range(1, small+1):\n",
    "        if(m%i==0 and n%i==0):\n",
    "            ans = i\n",
    "    return ans\n",
    "\n",
    "x, y = eval(input(\"enter: \"))\n",
    "result = gcd(x, y)\n",
    "print(\"gcd is: \", result)"
   ]
  },
  {
   "cell_type": "code",
   "execution_count": 3,
   "id": "fb836649-878b-4579-bc0c-3f7c31a9820d",
   "metadata": {},
   "outputs": [
    {
     "name": "stdout",
     "output_type": "stream",
     "text": [
      "Sanjay\n"
     ]
    }
   ],
   "source": [
    "tpl=(\"Sanjay\",30,10)\n",
    "print(tpl[0])"
   ]
  },
  {
   "cell_type": "code",
   "execution_count": 4,
   "id": "43395ec6-ad35-4a8a-94fc-775b9a8d3a7f",
   "metadata": {},
   "outputs": [
    {
     "name": "stdout",
     "output_type": "stream",
     "text": [
      "0 ram\n",
      "1 10\n",
      "2 20.4\n",
      "3 hello\n"
     ]
    }
   ],
   "source": [
    "tpl=(\"ram\",10,20.4,\"hello\")\n",
    "for index,n in enumerate(tpl):\n",
    "    print(index,n)"
   ]
  },
  {
   "cell_type": "code",
   "execution_count": 5,
   "id": "d6448f5a-105a-415a-9dba-9f8390d0d6ec",
   "metadata": {},
   "outputs": [
    {
     "name": "stdout",
     "output_type": "stream",
     "text": [
      "('p', 'r', 'o', 'g', 'r', 'a', 'm')\n"
     ]
    }
   ],
   "source": [
    "my_tuple = ('p', 'r', 'o', 'g', 'r', 'a', 'm')\n",
    "print(my_tuple)"
   ]
  },
  {
   "cell_type": "code",
   "execution_count": 7,
   "id": "3010271f-7727-4c1b-a96e-d02413106421",
   "metadata": {},
   "outputs": [
    {
     "name": "stdout",
     "output_type": "stream",
     "text": [
      "{1: 'apple', 2: 'ball'}\n"
     ]
    }
   ],
   "source": [
    "my_dict = dict([(1,'apple'), (2,'ball')])\n",
    "print(my_dict)"
   ]
  },
  {
   "cell_type": "code",
   "execution_count": null,
   "id": "ab459d28-48a0-46d9-8fd7-bbe70de958e0",
   "metadata": {},
   "outputs": [],
   "source": []
  },
  {
   "cell_type": "code",
   "execution_count": 9,
   "id": "dad8762b-ffbb-41a7-9e28-a0e93c220691",
   "metadata": {},
   "outputs": [
    {
     "name": "stdin",
     "output_type": "stream",
     "text": [
      "Enter three sides:  2, 3, 4\n"
     ]
    },
    {
     "name": "stdout",
     "output_type": "stream",
     "text": [
      "Scalen\n"
     ]
    }
   ],
   "source": [
    "a, b,c = eval(input(\"Enter three sides: \"))\n",
    "if a==b and b!=c or b==c and b!=a or a==c and a !=b :\n",
    "    print(\"Isoceles\")\n",
    "elif a == b == c :\n",
    "    print(\"Equilateral\")\n",
    "else:\n",
    "    print(\"Scalen\")\n",
    "\n",
    "\n"
   ]
  },
  {
   "cell_type": "code",
   "execution_count": 17,
   "id": "f6d0eab9-3c87-4515-a7f6-c3e2fc246416",
   "metadata": {},
   "outputs": [
    {
     "name": "stdin",
     "output_type": "stream",
     "text": [
      "Enter three sides:  3, 4, 5\n"
     ]
    },
    {
     "name": "stdout",
     "output_type": "stream",
     "text": [
      "right angle triangle\n"
     ]
    }
   ],
   "source": [
    "from math import pow\n",
    "a, b, c = eval(input(\"Enter three sides: \"))\n",
    "if(a>0 and b>0 and c>0):\n",
    "    if(pow(a,2)==(pow(b,2)+pow(c,2)) or pow(b,2)==(pow(a,2)+pow(c,2)) or pow(c,2)==(pow(a,2)+pow(b,2))):\n",
    "        print(\"right angle triangle\")"
   ]
  },
  {
   "cell_type": "code",
   "execution_count": 20,
   "id": "b506d9a2-b367-4972-8fa2-a8583912108f",
   "metadata": {},
   "outputs": [
    {
     "name": "stdin",
     "output_type": "stream",
     "text": [
      "Enter Divisor and Dividend:  4, 2\n"
     ]
    },
    {
     "name": "stdout",
     "output_type": "stream",
     "text": [
      "m is divisible by n\n"
     ]
    }
   ],
   "source": [
    "m, n = eval(input(\"Enter Divisor and Dividend: \"))\n",
    "a, b = divmod(m, n)\n",
    "if b == 0:\n",
    "    print(\"m is divisible by n\")\n",
    "else:\n",
    "    print(\"m is not divisible by n\")"
   ]
  },
  {
   "cell_type": "code",
   "execution_count": 24,
   "id": "cb05d76d-ba38-4987-8998-133362d2f38c",
   "metadata": {},
   "outputs": [
    {
     "name": "stdin",
     "output_type": "stream",
     "text": [
      "Enter 10 numbers:  10, 20, 3, 45, 22, 15, 25, 10, 18, 12\n"
     ]
    },
    {
     "name": "stdout",
     "output_type": "stream",
     "text": [
      "max is large from min with 42\n",
      "max is large from min by 15.0\n"
     ]
    }
   ],
   "source": [
    "lst = eval(input(\"Enter 10 numbers: \"))\n",
    "a = max(lst)\n",
    "b = min(lst)\n",
    "print(\"max is large from min with\", end = \" \")\n",
    "print(a-b)\n",
    "print(\"max is large from min by\", end = \" \")\n",
    "print(a/b)"
   ]
  },
  {
   "cell_type": "code",
   "execution_count": 37,
   "id": "0433473b-8b78-47e6-8957-ff748b90e29d",
   "metadata": {},
   "outputs": [
    {
     "ename": "TypeError",
     "evalue": "The only supported seed types are: None,\nint, float, str, bytes, and bytearray.",
     "output_type": "error",
     "traceback": [
      "\u001b[1;31m---------------------------------------------------------------------------\u001b[0m",
      "\u001b[1;31mTypeError\u001b[0m                                 Traceback (most recent call last)",
      "Cell \u001b[1;32mIn[37], line 3\u001b[0m\n\u001b[0;32m      1\u001b[0m \u001b[38;5;28;01mimport\u001b[39;00m \u001b[38;5;21;01mrandom\u001b[39;00m\n\u001b[0;32m      2\u001b[0m \u001b[38;5;28;01mimport\u001b[39;00m \u001b[38;5;21;01mdatetime\u001b[39;00m\n\u001b[1;32m----> 3\u001b[0m \u001b[43mrandom\u001b[49m\u001b[38;5;241;43m.\u001b[39;49m\u001b[43mseed\u001b[49m\u001b[43m(\u001b[49m\u001b[43mdatetime\u001b[49m\u001b[38;5;241;43m.\u001b[39;49m\u001b[43mtime\u001b[49m\u001b[43m(\u001b[49m\u001b[43m \u001b[49m\u001b[43m)\u001b[49m\u001b[43m)\u001b[49m\n\u001b[0;32m      5\u001b[0m a\u001b[38;5;241m=\u001b[39mrandom\u001b[38;5;241m.\u001b[39mrandint(\u001b[38;5;241m10\u001b[39m,\u001b[38;5;241m50\u001b[39m)\n\u001b[0;32m      6\u001b[0m \u001b[38;5;28mprint\u001b[39m(a)\n",
      "File \u001b[1;32m~\\AppData\\Local\\Programs\\Python\\Python311\\Lib\\random.py:160\u001b[0m, in \u001b[0;36mRandom.seed\u001b[1;34m(self, a, version)\u001b[0m\n\u001b[0;32m    157\u001b[0m     a \u001b[38;5;241m=\u001b[39m \u001b[38;5;28mint\u001b[39m\u001b[38;5;241m.\u001b[39mfrom_bytes(a \u001b[38;5;241m+\u001b[39m _sha512(a)\u001b[38;5;241m.\u001b[39mdigest())\n\u001b[0;32m    159\u001b[0m \u001b[38;5;28;01melif\u001b[39;00m \u001b[38;5;129;01mnot\u001b[39;00m \u001b[38;5;28misinstance\u001b[39m(a, (\u001b[38;5;28mtype\u001b[39m(\u001b[38;5;28;01mNone\u001b[39;00m), \u001b[38;5;28mint\u001b[39m, \u001b[38;5;28mfloat\u001b[39m, \u001b[38;5;28mstr\u001b[39m, \u001b[38;5;28mbytes\u001b[39m, \u001b[38;5;28mbytearray\u001b[39m)):\n\u001b[1;32m--> 160\u001b[0m     \u001b[38;5;28;01mraise\u001b[39;00m \u001b[38;5;167;01mTypeError\u001b[39;00m(\u001b[38;5;124m'\u001b[39m\u001b[38;5;124mThe only supported seed types are: None,\u001b[39m\u001b[38;5;130;01m\\n\u001b[39;00m\u001b[38;5;124m'\u001b[39m\n\u001b[0;32m    161\u001b[0m                     \u001b[38;5;124m'\u001b[39m\u001b[38;5;124mint, float, str, bytes, and bytearray.\u001b[39m\u001b[38;5;124m'\u001b[39m)\n\u001b[0;32m    163\u001b[0m \u001b[38;5;28msuper\u001b[39m()\u001b[38;5;241m.\u001b[39mseed(a)\n\u001b[0;32m    164\u001b[0m \u001b[38;5;28mself\u001b[39m\u001b[38;5;241m.\u001b[39mgauss_next \u001b[38;5;241m=\u001b[39m \u001b[38;5;28;01mNone\u001b[39;00m\n",
      "\u001b[1;31mTypeError\u001b[0m: The only supported seed types are: None,\nint, float, str, bytes, and bytearray."
     ]
    }
   ],
   "source": [
    "import random\n",
    "import datetime\n",
    "random.seed(datetime.time( ))\n",
    "\n",
    "a=random.randint(10,50)\n",
    "print(a)\n"
   ]
  },
  {
   "cell_type": "code",
   "execution_count": 3,
   "id": "613a9e29-ab4f-4a8f-ba77-d290984a5246",
   "metadata": {},
   "outputs": [
    {
     "name": "stdout",
     "output_type": "stream",
     "text": [
      "17\n"
     ]
    }
   ],
   "source": [
    "def fun(x):\n",
    "    if(x<3):\n",
    "        return 1\n",
    "    else:\n",
    "        return fun(x-1)+fun(x-3)+1\n",
    "\n",
    "x = 5\n",
    "val = fun(fun(x))\n",
    "print(val)\n",
    "    "
   ]
  },
  {
   "cell_type": "code",
   "execution_count": 5,
   "id": "37fc9881-dbdf-466f-a98e-4ed40f54e09e",
   "metadata": {},
   "outputs": [
    {
     "name": "stdout",
     "output_type": "stream",
     "text": [
      "6\n"
     ]
    }
   ],
   "source": [
    "def fun(s, indx, count):\n",
    "    if indx == len(s):\n",
    "        return count\n",
    "    if s[indx] in ['a', 'e', 'i', 'o', 'u']:\n",
    "        count += 1\n",
    "\n",
    "    count = fun(s, indx+1, count)\n",
    "    return count\n",
    "\n",
    "count = fun(\"hello\", 0, 0)\n",
    "print(count)"
   ]
  },
  {
   "cell_type": "code",
   "execution_count": 1,
   "id": "1785220f-a5e9-4f81-81dc-5f013786ea67",
   "metadata": {},
   "outputs": [
    {
     "name": "stdout",
     "output_type": "stream",
     "text": [
      "120\n"
     ]
    }
   ],
   "source": [
    "def fun(n):\n",
    "    if(n==0):\n",
    "        return 1\n",
    "    else:\n",
    "        return n*fun(n-1)\n",
    "n=5\n",
    "print(fun(n))"
   ]
  },
  {
   "cell_type": "code",
   "execution_count": null,
   "id": "9f330649-bed0-41b1-98f4-e26124ccd987",
   "metadata": {},
   "outputs": [],
   "source": [
    "\n",
    "def fun(n):\n",
    "   if (n%2!=0):\n",
    "       n-=1\n",
    "    if(n==0):\n",
    "        return 0\n",
    "    else:\n",
    "        return n+fun(n-2)\n",
    "            \n",
    "        \n",
    "    "
   ]
  }
 ],
 "metadata": {
  "kernelspec": {
   "display_name": "Python 3 (ipykernel)",
   "language": "python",
   "name": "python3"
  },
  "language_info": {
   "codemirror_mode": {
    "name": "ipython",
    "version": 3
   },
   "file_extension": ".py",
   "mimetype": "text/x-python",
   "name": "python",
   "nbconvert_exporter": "python",
   "pygments_lexer": "ipython3",
   "version": "3.11.4"
  }
 },
 "nbformat": 4,
 "nbformat_minor": 5
}
