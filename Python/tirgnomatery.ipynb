{
 "cells": [
  {
   "cell_type": "code",
   "execution_count": 1,
   "id": "98e27089-b1f0-4756-a3e8-4e9cb497a87d",
   "metadata": {},
   "outputs": [
    {
     "name": "stdout",
     "output_type": "stream",
     "text": [
      "0.9092974268256817\n"
     ]
    }
   ],
   "source": [
    "import math\n",
    "x=2\n",
    "print (math.sin(x))"
   ]
  },
  {
   "cell_type": "code",
   "execution_count": 2,
   "id": "6bca8dcc-c0e6-49ee-8060-f631513d878e",
   "metadata": {},
   "outputs": [
    {
     "name": "stdout",
     "output_type": "stream",
     "text": [
      "-0.9899924966004454\n"
     ]
    }
   ],
   "source": [
    "import math\n",
    "x=3\n",
    "print (math.cos(x))"
   ]
  },
  {
   "cell_type": "code",
   "execution_count": 3,
   "id": "1b2bc4b8-a323-48bd-b899-c91ad8a365da",
   "metadata": {},
   "outputs": [
    {
     "name": "stdout",
     "output_type": "stream",
     "text": [
      "-3.380515006246586\n"
     ]
    }
   ],
   "source": [
    "import math\n",
    "x=5\n",
    "print (math.tan(x))"
   ]
  },
  {
   "cell_type": "code",
   "execution_count": 4,
   "id": "5fafb2d2-1d4f-48c2-877f-6e5d1fac2c7f",
   "metadata": {},
   "outputs": [
    {
     "name": "stdout",
     "output_type": "stream",
     "text": [
      "-0.5440211108893698\n"
     ]
    }
   ],
   "source": [
    "import math\n",
    "\n",
    "x=10\n",
    "print(math.sin(x))"
   ]
  },
  {
   "cell_type": "code",
   "execution_count": 8,
   "id": "e62db2f9-8842-4e74-b5b1-d329b8e9afde",
   "metadata": {},
   "outputs": [
    {
     "name": "stdout",
     "output_type": "stream",
     "text": [
      "229.1831180523293\n"
     ]
    }
   ],
   "source": [
    "import math\n",
    "x=4\n",
    "print (math.degrees(x))\n"
   ]
  },
  {
   "cell_type": "code",
   "execution_count": 14,
   "id": "2b790b5e-cbee-4ece-98d7-0686cf63a682",
   "metadata": {},
   "outputs": [
    {
     "name": "stdout",
     "output_type": "stream",
     "text": [
      "3\n"
     ]
    }
   ],
   "source": [
    "import random  # it print the any random number\n",
    "print (random.randint(1,20))"
   ]
  },
  {
   "cell_type": "code",
   "execution_count": null,
   "id": "7e3a07f6-ef79-4fd1-859a-549d493683af",
   "metadata": {},
   "outputs": [],
   "source": [
    "import random\n",
    "print ("
   ]
  }
 ],
 "metadata": {
  "kernelspec": {
   "display_name": "Python 3 (ipykernel)",
   "language": "python",
   "name": "python3"
  },
  "language_info": {
   "codemirror_mode": {
    "name": "ipython",
    "version": 3
   },
   "file_extension": ".py",
   "mimetype": "text/x-python",
   "name": "python",
   "nbconvert_exporter": "python",
   "pygments_lexer": "ipython3",
   "version": "3.11.4"
  }
 },
 "nbformat": 4,
 "nbformat_minor": 5
}
